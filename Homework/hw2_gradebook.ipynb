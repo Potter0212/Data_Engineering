{
 "cells": [
  {
   "cell_type": "code",
   "execution_count": 48,
   "id": "d237876c-9e26-4178-b1d1-9a43f8be86f6",
   "metadata": {},
   "outputs": [],
   "source": [
    "subjects = [[\"physics\"],[\"calculus\"],[\"poetry\"],[\"history\"]]"
   ]
  },
  {
   "cell_type": "code",
   "execution_count": 49,
   "id": "cdc19f30-ed03-4942-851e-248a28d56894",
   "metadata": {},
   "outputs": [],
   "source": [
    "grades = [[98], [97], [85], [88]]"
   ]
  },
  {
   "cell_type": "code",
   "execution_count": 50,
   "id": "5ff238e6-ac63-4013-b082-d90de0b1233b",
   "metadata": {},
   "outputs": [],
   "source": [
    "gradebook = [\n",
    "    [\"physics\", 98],\n",
    "    [\"calculus\", 97],\n",
    "    [\"poetry\", 85],\n",
    "    [\"history\", 88]\n",
    "    ]"
   ]
  },
  {
   "cell_type": "code",
   "execution_count": 51,
   "id": "f0ff66ad-b7bc-490f-981d-2a9a7327f648",
   "metadata": {},
   "outputs": [
    {
     "name": "stdout",
     "output_type": "stream",
     "text": [
      "[['physics', 98], ['calculus', 97], ['poetry', 85], ['history', 88]]\n"
     ]
    }
   ],
   "source": [
    "print(gradebook)"
   ]
  },
  {
   "cell_type": "code",
   "execution_count": 52,
   "id": "1ca78ad1-fae7-418d-b2ca-9988876636e5",
   "metadata": {},
   "outputs": [],
   "source": [
    "gradebook.append([\"computer science\", 100])"
   ]
  },
  {
   "cell_type": "code",
   "execution_count": 53,
   "id": "70a80e74-54b6-434a-8b09-6b305a44d54f",
   "metadata": {},
   "outputs": [],
   "source": [
    "gradebook.append([\"visual arts\", 93])"
   ]
  },
  {
   "cell_type": "code",
   "execution_count": 54,
   "id": "2c97b667-012b-402f-b134-d0bd9e82007c",
   "metadata": {},
   "outputs": [
    {
     "name": "stdout",
     "output_type": "stream",
     "text": [
      "[['physics', 98], ['calculus', 97], ['poetry', 85], ['history', 88], ['computer science', 100], ['visual arts', 93]]\n"
     ]
    }
   ],
   "source": [
    "print(gradebook)"
   ]
  },
  {
   "cell_type": "code",
   "execution_count": 55,
   "id": "1d4ff640-c4a7-423a-8456-771630744b70",
   "metadata": {},
   "outputs": [],
   "source": [
    "gradebook[5] = [\"visual arts\", 98]"
   ]
  },
  {
   "cell_type": "code",
   "execution_count": 56,
   "id": "31ebb1fd-d351-4708-9cb4-e95991c73e04",
   "metadata": {},
   "outputs": [],
   "source": [
    "gradebook[2].remove(85)"
   ]
  },
  {
   "cell_type": "code",
   "execution_count": 57,
   "id": "2377ab9e-ac4b-4ac8-9b09-a1b6cf32a4a3",
   "metadata": {},
   "outputs": [],
   "source": [
    "gradebook[2].append(\"Pass\")"
   ]
  },
  {
   "cell_type": "code",
   "execution_count": 58,
   "id": "2877adf1-60df-40c8-9d35-d9ed383dbe68",
   "metadata": {},
   "outputs": [
    {
     "name": "stdout",
     "output_type": "stream",
     "text": [
      "[['physics', 98], ['calculus', 97], ['poetry', 'Pass'], ['history', 88], ['computer science', 100], ['visual arts', 98]]\n"
     ]
    }
   ],
   "source": [
    "print(gradebook)"
   ]
  },
  {
   "cell_type": "code",
   "execution_count": 59,
   "id": "8993722a-0ce5-4358-a80b-aed4685f9e5c",
   "metadata": {},
   "outputs": [],
   "source": [
    "last_semester_gradebook = [[\"politics\", 80], [\"latin\", 96], [\"dance\", 97], [\"architecture\", 65]]"
   ]
  },
  {
   "cell_type": "code",
   "execution_count": 62,
   "id": "c7a129d2-20d9-4264-8803-0859818e7e0e",
   "metadata": {},
   "outputs": [],
   "source": [
    "full_gradebook = last_semester_gradebook + gradebook"
   ]
  },
  {
   "cell_type": "code",
   "execution_count": 63,
   "id": "94a6150c-61fe-4673-a68b-374093295580",
   "metadata": {},
   "outputs": [
    {
     "name": "stdout",
     "output_type": "stream",
     "text": [
      "[['politics', 80], ['latin', 96], ['dance', 97], ['architecture', 65], ['physics', 98], ['calculus', 97], ['poetry', 'Pass'], ['history', 88], ['computer science', 100], ['visual arts', 98]]\n"
     ]
    }
   ],
   "source": [
    "print(full_gradebook)"
   ]
  },
  {
   "cell_type": "code",
   "execution_count": null,
   "id": "b57746a0-702a-4e57-81d2-3fa4b46a27ea",
   "metadata": {},
   "outputs": [],
   "source": []
  }
 ],
 "metadata": {
  "kernelspec": {
   "display_name": "Python 3 (ipykernel)",
   "language": "python",
   "name": "python3"
  },
  "language_info": {
   "codemirror_mode": {
    "name": "ipython",
    "version": 3
   },
   "file_extension": ".py",
   "mimetype": "text/x-python",
   "name": "python",
   "nbconvert_exporter": "python",
   "pygments_lexer": "ipython3",
   "version": "3.11.7"
  }
 },
 "nbformat": 4,
 "nbformat_minor": 5
}
