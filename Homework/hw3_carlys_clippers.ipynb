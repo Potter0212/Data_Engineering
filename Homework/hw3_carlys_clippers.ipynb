{
 "cells": [
  {
   "cell_type": "code",
   "execution_count": 1,
   "id": "9ba56f40-a063-4724-a792-b3e7b6faa6e4",
   "metadata": {},
   "outputs": [],
   "source": [
    "hairstyles = [\"bouffant\", \"pixie\", \"dreadlocks\", \"crew\", \"bowl\", \"bob\", \"mohawk\", \"flattop\"]"
   ]
  },
  {
   "cell_type": "code",
   "execution_count": 2,
   "id": "9b61496d-0cc3-4d6d-97e5-5b203b3d2487",
   "metadata": {},
   "outputs": [],
   "source": [
    "prices = [30, 25, 40, 20, 20, 35, 50, 35]"
   ]
  },
  {
   "cell_type": "code",
   "execution_count": 3,
   "id": "721f0354-1fc4-43bd-b9da-b1e57170975a",
   "metadata": {},
   "outputs": [],
   "source": [
    "last_week = [2, 3, 5, 8, 4, 4, 6, 2]"
   ]
  },
  {
   "cell_type": "code",
   "execution_count": 4,
   "id": "e559f596-e2d7-44b4-8694-e3f9aa935b12",
   "metadata": {},
   "outputs": [],
   "source": [
    "total_price = 0"
   ]
  },
  {
   "cell_type": "code",
   "execution_count": 5,
   "id": "a03f8067-6534-49ba-aff2-34bf32c574be",
   "metadata": {},
   "outputs": [],
   "source": [
    "i = 0\n",
    "while i < 8:\n",
    "    total_price += prices[i]\n",
    "    i += 1"
   ]
  },
  {
   "cell_type": "code",
   "execution_count": 6,
   "id": "ed8969be-562b-4c2b-8e6a-55b2f1f23afd",
   "metadata": {},
   "outputs": [],
   "source": [
    "average_price = total_price/len(prices)"
   ]
  },
  {
   "cell_type": "code",
   "execution_count": 7,
   "id": "d7ea9acf-f176-47a5-bcdd-11e67b324546",
   "metadata": {},
   "outputs": [
    {
     "name": "stdout",
     "output_type": "stream",
     "text": [
      "Average price is  31.875\n"
     ]
    }
   ],
   "source": [
    "print(\"Average price is \",average_price)"
   ]
  },
  {
   "cell_type": "code",
   "execution_count": 8,
   "id": "0f74c746-3e2c-45b4-8eda-12cb47a3d1db",
   "metadata": {},
   "outputs": [],
   "source": [
    "new_prices = [price-5 for price in prices]"
   ]
  },
  {
   "cell_type": "code",
   "execution_count": 9,
   "id": "9373d98a-4497-4df5-8b14-293337446a6e",
   "metadata": {},
   "outputs": [
    {
     "name": "stdout",
     "output_type": "stream",
     "text": [
      "[25, 20, 35, 15, 15, 30, 45, 30]\n"
     ]
    }
   ],
   "source": [
    "print(new_prices)"
   ]
  },
  {
   "cell_type": "code",
   "execution_count": 10,
   "id": "22fdc058-10fa-46bc-a8b7-00209145274a",
   "metadata": {},
   "outputs": [],
   "source": [
    "total_revenue = 0"
   ]
  },
  {
   "cell_type": "code",
   "execution_count": 11,
   "id": "6c4398a0-96c6-42cc-b82c-91e8ced1a3ec",
   "metadata": {},
   "outputs": [],
   "source": [
    "i = 0\n",
    "for i in range(len(hairstyles)):\n",
    "    total_revenue += prices[i]*last_week[i]\n",
    "    i += 1"
   ]
  },
  {
   "cell_type": "code",
   "execution_count": 12,
   "id": "d751152f-61a3-4cfc-b10b-24a099d6be37",
   "metadata": {},
   "outputs": [
    {
     "name": "stdout",
     "output_type": "stream",
     "text": [
      "1085\n"
     ]
    }
   ],
   "source": [
    "print(total_revenue)"
   ]
  },
  {
   "cell_type": "code",
   "execution_count": 13,
   "id": "f4c08a50-857e-47d7-b79a-654dfa5c40ea",
   "metadata": {},
   "outputs": [],
   "source": [
    "average_daily_revenue = total_revenue / 7"
   ]
  },
  {
   "cell_type": "code",
   "execution_count": 14,
   "id": "f8cc53fd-40f8-4d59-9a7c-561e085a09bf",
   "metadata": {},
   "outputs": [
    {
     "name": "stdout",
     "output_type": "stream",
     "text": [
      "Average daily revenue is  155.0\n"
     ]
    }
   ],
   "source": [
    "print(\"Average daily revenue is \",average_daily_revenue)"
   ]
  },
  {
   "cell_type": "code",
   "execution_count": 15,
   "id": "764e460e-4ece-4203-b475-fde0adcf23a5",
   "metadata": {},
   "outputs": [],
   "source": [
    "cuts_under_30 =[hairstyles[i] for i in range(len(new_prices)-1) if new_prices[i]<30]"
   ]
  },
  {
   "cell_type": "code",
   "execution_count": 16,
   "id": "bdd020a1-482e-4c4e-ae80-a2492331b15a",
   "metadata": {},
   "outputs": [
    {
     "name": "stdout",
     "output_type": "stream",
     "text": [
      "['bouffant', 'pixie', 'crew', 'bowl']\n"
     ]
    }
   ],
   "source": [
    "print(cuts_under_30)"
   ]
  },
  {
   "cell_type": "code",
   "execution_count": null,
   "id": "54cb5e3e-dce2-46be-8487-3fcca3f1bb83",
   "metadata": {},
   "outputs": [],
   "source": []
  }
 ],
 "metadata": {
  "kernelspec": {
   "display_name": "Python 3 (ipykernel)",
   "language": "python",
   "name": "python3"
  },
  "language_info": {
   "codemirror_mode": {
    "name": "ipython",
    "version": 3
   },
   "file_extension": ".py",
   "mimetype": "text/x-python",
   "name": "python",
   "nbconvert_exporter": "python",
   "pygments_lexer": "ipython3",
   "version": "3.11.7"
  }
 },
 "nbformat": 4,
 "nbformat_minor": 5
}
